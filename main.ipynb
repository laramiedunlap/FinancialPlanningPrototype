{
 "cells": [
  {
   "cell_type": "markdown",
   "metadata": {},
   "source": [
    "# Prototype Financial Planner"
   ]
  },
  {
   "cell_type": "code",
   "execution_count": 1,
   "metadata": {},
   "outputs": [
    {
     "data": {
      "text/plain": [
       "True"
      ]
     },
     "execution_count": 1,
     "metadata": {},
     "output_type": "execute_result"
    }
   ],
   "source": [
    "import os\n",
    "import requests\n",
    "import pandas as pd\n",
    "from dotenv import load_dotenv\n",
    "import alpaca_trade_api as tradeapi\n",
    "from alpaca_trade_api.rest import REST, TimeFrame\n",
    "import numpy as np\n",
    "from MCForecastTools import MCSimulation\n",
    "import json\n",
    "import re\n",
    "from utils import find_crypto_value, calc_start_date, get_company\n",
    "from datetime import date\n",
    "\n",
    "\n",
    "load_dotenv()"
   ]
  },
  {
   "cell_type": "markdown",
   "metadata": {},
   "source": [
    "## Part 1 - Personal Finance Planner\n",
    "---\n",
    "### Collect Crypto Prices Using the **requests** library"
   ]
  },
  {
   "cell_type": "code",
   "execution_count": 2,
   "metadata": {},
   "outputs": [],
   "source": [
    "# We will use default crypto values of 1.2 BTC and 5.3 ETH\n",
    "my_btc = 1.2\n",
    "my_eth = 5.3\n",
    "\n",
    "# Crypto API URLs\n",
    "btc_url = \"https://api.alternative.me/v2/ticker/Bitcoin/\"\n",
    "eth_url = \"https://api.alternative.me/v2/ticker/Ethereum/\"\n",
    "\n",
    "# Store and parse crypto data from alternative.me free API\n",
    "btc_response = requests.get(btc_url)\n",
    "btc_data = btc_response.json()\n",
    "eth_response = requests.get(eth_url)\n",
    "eth_data = eth_response.json()\n",
    "\n",
    "\n"
   ]
  },
  {
   "cell_type": "code",
   "execution_count": 3,
   "metadata": {},
   "outputs": [
    {
     "name": "stdout",
     "output_type": "stream",
     "text": [
      "The current value of your 1.2 BTC is $50707.20\n",
      "The current value of your 5.3 ETH is $223956.80\n"
     ]
    }
   ],
   "source": [
    "my_btc_value = find_crypto_value(my_btc, btc_data, 2)\n",
    "my_eth_value = find_crypto_value(my_eth, btc_data, 2)\n",
    "print(f\"The current value of your {my_btc} BTC is ${my_btc_value:0.2f}\")\n",
    "print(f\"The current value of your {my_eth} ETH is ${my_eth_value:0.2f}\")"
   ]
  },
  {
   "cell_type": "markdown",
   "metadata": {},
   "source": [
    "### Collect Investments Data Using Alpaca: SPY (stocks) and AGG (bonds)"
   ]
  },
  {
   "cell_type": "code",
   "execution_count": 4,
   "metadata": {},
   "outputs": [],
   "source": [
    "# Set user share totals for SPY and AGG\n",
    "my_spy = 50\n",
    "my_agg = 200"
   ]
  },
  {
   "cell_type": "code",
   "execution_count": 5,
   "metadata": {},
   "outputs": [],
   "source": [
    "# Set Alpca API key and secret key, then insantiate an API object\n",
    "alpaca_api_key = os.getenv(\"ALPACA_API_KEY\")\n",
    "alpaca_secret_key = os.getenv(\"ALPACA_SECURITY_KEY\")\n",
    "\n",
    "api = tradeapi.REST(alpaca_api_key,alpaca_secret_key,api_version='v2')\n"
   ]
  },
  {
   "cell_type": "code",
   "execution_count": 6,
   "metadata": {},
   "outputs": [
    {
     "data": {
      "text/html": [
       "<div>\n",
       "<style scoped>\n",
       "    .dataframe tbody tr th:only-of-type {\n",
       "        vertical-align: middle;\n",
       "    }\n",
       "\n",
       "    .dataframe tbody tr th {\n",
       "        vertical-align: top;\n",
       "    }\n",
       "\n",
       "    .dataframe thead th {\n",
       "        text-align: right;\n",
       "    }\n",
       "</style>\n",
       "<table border=\"1\" class=\"dataframe\">\n",
       "  <thead>\n",
       "    <tr style=\"text-align: right;\">\n",
       "      <th></th>\n",
       "      <th>open</th>\n",
       "      <th>high</th>\n",
       "      <th>low</th>\n",
       "      <th>close</th>\n",
       "      <th>volume</th>\n",
       "      <th>trade_count</th>\n",
       "      <th>vwap</th>\n",
       "      <th>symbol</th>\n",
       "    </tr>\n",
       "    <tr>\n",
       "      <th>timestamp</th>\n",
       "      <th></th>\n",
       "      <th></th>\n",
       "      <th></th>\n",
       "      <th></th>\n",
       "      <th></th>\n",
       "      <th></th>\n",
       "      <th></th>\n",
       "      <th></th>\n",
       "    </tr>\n",
       "  </thead>\n",
       "  <tbody>\n",
       "    <tr>\n",
       "      <th>2017-03-20 04:00:00+00:00</th>\n",
       "      <td>107.86</td>\n",
       "      <td>108.0500</td>\n",
       "      <td>107.8401</td>\n",
       "      <td>108.05</td>\n",
       "      <td>1635249</td>\n",
       "      <td>8198</td>\n",
       "      <td>107.961544</td>\n",
       "      <td>AGG</td>\n",
       "    </tr>\n",
       "    <tr>\n",
       "      <th>2017-03-21 04:00:00+00:00</th>\n",
       "      <td>107.93</td>\n",
       "      <td>108.2700</td>\n",
       "      <td>107.9300</td>\n",
       "      <td>108.27</td>\n",
       "      <td>2049680</td>\n",
       "      <td>12024</td>\n",
       "      <td>108.175725</td>\n",
       "      <td>AGG</td>\n",
       "    </tr>\n",
       "    <tr>\n",
       "      <th>2017-03-22 04:00:00+00:00</th>\n",
       "      <td>108.44</td>\n",
       "      <td>108.5400</td>\n",
       "      <td>108.3600</td>\n",
       "      <td>108.42</td>\n",
       "      <td>2643641</td>\n",
       "      <td>11111</td>\n",
       "      <td>108.455049</td>\n",
       "      <td>AGG</td>\n",
       "    </tr>\n",
       "    <tr>\n",
       "      <th>2017-03-23 04:00:00+00:00</th>\n",
       "      <td>108.44</td>\n",
       "      <td>108.5100</td>\n",
       "      <td>108.2635</td>\n",
       "      <td>108.45</td>\n",
       "      <td>2071485</td>\n",
       "      <td>10901</td>\n",
       "      <td>108.417635</td>\n",
       "      <td>AGG</td>\n",
       "    </tr>\n",
       "    <tr>\n",
       "      <th>2017-03-24 04:00:00+00:00</th>\n",
       "      <td>108.35</td>\n",
       "      <td>108.5100</td>\n",
       "      <td>108.3100</td>\n",
       "      <td>108.36</td>\n",
       "      <td>3374871</td>\n",
       "      <td>11229</td>\n",
       "      <td>108.398485</td>\n",
       "      <td>AGG</td>\n",
       "    </tr>\n",
       "    <tr>\n",
       "      <th>...</th>\n",
       "      <td>...</td>\n",
       "      <td>...</td>\n",
       "      <td>...</td>\n",
       "      <td>...</td>\n",
       "      <td>...</td>\n",
       "      <td>...</td>\n",
       "      <td>...</td>\n",
       "      <td>...</td>\n",
       "    </tr>\n",
       "    <tr>\n",
       "      <th>2021-03-03 05:00:00+00:00</th>\n",
       "      <td>114.80</td>\n",
       "      <td>114.8300</td>\n",
       "      <td>114.6000</td>\n",
       "      <td>114.69</td>\n",
       "      <td>10317816</td>\n",
       "      <td>27664</td>\n",
       "      <td>114.725856</td>\n",
       "      <td>AGG</td>\n",
       "    </tr>\n",
       "    <tr>\n",
       "      <th>2021-03-04 05:00:00+00:00</th>\n",
       "      <td>114.79</td>\n",
       "      <td>114.8000</td>\n",
       "      <td>114.2600</td>\n",
       "      <td>114.36</td>\n",
       "      <td>5953649</td>\n",
       "      <td>22047</td>\n",
       "      <td>114.499150</td>\n",
       "      <td>AGG</td>\n",
       "    </tr>\n",
       "    <tr>\n",
       "      <th>2021-03-05 05:00:00+00:00</th>\n",
       "      <td>114.17</td>\n",
       "      <td>114.3197</td>\n",
       "      <td>114.0500</td>\n",
       "      <td>114.28</td>\n",
       "      <td>8675825</td>\n",
       "      <td>23143</td>\n",
       "      <td>114.237029</td>\n",
       "      <td>AGG</td>\n",
       "    </tr>\n",
       "    <tr>\n",
       "      <th>2021-03-08 05:00:00+00:00</th>\n",
       "      <td>114.20</td>\n",
       "      <td>114.2300</td>\n",
       "      <td>113.8300</td>\n",
       "      <td>113.83</td>\n",
       "      <td>5639472</td>\n",
       "      <td>16801</td>\n",
       "      <td>113.990252</td>\n",
       "      <td>AGG</td>\n",
       "    </tr>\n",
       "    <tr>\n",
       "      <th>2021-03-09 05:00:00+00:00</th>\n",
       "      <td>114.20</td>\n",
       "      <td>114.3100</td>\n",
       "      <td>114.0000</td>\n",
       "      <td>114.26</td>\n",
       "      <td>5676798</td>\n",
       "      <td>15830</td>\n",
       "      <td>114.235286</td>\n",
       "      <td>AGG</td>\n",
       "    </tr>\n",
       "  </tbody>\n",
       "</table>\n",
       "<p>1000 rows × 8 columns</p>\n",
       "</div>"
      ],
      "text/plain": [
       "                             open      high       low   close    volume  \\\n",
       "timestamp                                                                 \n",
       "2017-03-20 04:00:00+00:00  107.86  108.0500  107.8401  108.05   1635249   \n",
       "2017-03-21 04:00:00+00:00  107.93  108.2700  107.9300  108.27   2049680   \n",
       "2017-03-22 04:00:00+00:00  108.44  108.5400  108.3600  108.42   2643641   \n",
       "2017-03-23 04:00:00+00:00  108.44  108.5100  108.2635  108.45   2071485   \n",
       "2017-03-24 04:00:00+00:00  108.35  108.5100  108.3100  108.36   3374871   \n",
       "...                           ...       ...       ...     ...       ...   \n",
       "2021-03-03 05:00:00+00:00  114.80  114.8300  114.6000  114.69  10317816   \n",
       "2021-03-04 05:00:00+00:00  114.79  114.8000  114.2600  114.36   5953649   \n",
       "2021-03-05 05:00:00+00:00  114.17  114.3197  114.0500  114.28   8675825   \n",
       "2021-03-08 05:00:00+00:00  114.20  114.2300  113.8300  113.83   5639472   \n",
       "2021-03-09 05:00:00+00:00  114.20  114.3100  114.0000  114.26   5676798   \n",
       "\n",
       "                           trade_count        vwap symbol  \n",
       "timestamp                                                  \n",
       "2017-03-20 04:00:00+00:00         8198  107.961544    AGG  \n",
       "2017-03-21 04:00:00+00:00        12024  108.175725    AGG  \n",
       "2017-03-22 04:00:00+00:00        11111  108.455049    AGG  \n",
       "2017-03-23 04:00:00+00:00        10901  108.417635    AGG  \n",
       "2017-03-24 04:00:00+00:00        11229  108.398485    AGG  \n",
       "...                                ...         ...    ...  \n",
       "2021-03-03 05:00:00+00:00        27664  114.725856    AGG  \n",
       "2021-03-04 05:00:00+00:00        22047  114.499150    AGG  \n",
       "2021-03-05 05:00:00+00:00        23143  114.237029    AGG  \n",
       "2021-03-08 05:00:00+00:00        16801  113.990252    AGG  \n",
       "2021-03-09 05:00:00+00:00        15830  114.235286    AGG  \n",
       "\n",
       "[1000 rows x 8 columns]"
      ]
     },
     "execution_count": 6,
     "metadata": {},
     "output_type": "execute_result"
    }
   ],
   "source": [
    "# Format current date as ISO format\n",
    "today = pd.Timestamp(\"2020-07-14\", tz=\"America/New_York\").isoformat()\n",
    "\n",
    "# Set the tickers\n",
    "tickers = [\"AGG\", \"SPY\"]\n",
    "\n",
    "\n",
    "\n",
    "# (use a limit=1000 parameter to call the most recent 1000 days of data)\n",
    "start_date = calc_start_date(5)\n",
    "df_portfolio = api.get_bars(tickers, TimeFrame.Day, start_date, limit=1000).df\n",
    "\n",
    "# Preview DataFrame\n",
    "df_portfolio"
   ]
  },
  {
   "cell_type": "code",
   "execution_count": null,
   "metadata": {},
   "outputs": [
    {
     "data": {
      "text/plain": [
       "'2017-03-19'"
      ]
     },
     "execution_count": 224,
     "metadata": {},
     "output_type": "execute_result"
    }
   ],
   "source": []
  },
  {
   "cell_type": "code",
   "execution_count": null,
   "metadata": {},
   "outputs": [],
   "source": []
  }
 ],
 "metadata": {
  "interpreter": {
   "hash": "7adbbe572f6c1f2d86983811888be46cb249a9cba1199ab8718f593971bb14d9"
  },
  "kernelspec": {
   "display_name": "Python 3.7.11 ('base')",
   "language": "python",
   "name": "python3"
  },
  "language_info": {
   "codemirror_mode": {
    "name": "ipython",
    "version": 3
   },
   "file_extension": ".py",
   "mimetype": "text/x-python",
   "name": "python",
   "nbconvert_exporter": "python",
   "pygments_lexer": "ipython3",
   "version": "3.10.0"
  },
  "orig_nbformat": 4
 },
 "nbformat": 4,
 "nbformat_minor": 2
}
