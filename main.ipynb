{
 "cells": [
  {
   "cell_type": "markdown",
   "metadata": {},
   "source": [
    "# Prototype Financial Planner"
   ]
  },
  {
   "cell_type": "code",
   "execution_count": 63,
   "metadata": {},
   "outputs": [
    {
     "data": {
      "text/plain": [
       "True"
      ]
     },
     "execution_count": 63,
     "metadata": {},
     "output_type": "execute_result"
    }
   ],
   "source": [
    "import os\n",
    "import requests\n",
    "import pandas as pd\n",
    "from dotenv import load_dotenv\n",
    "from alpaca_trade_api.rest import REST, TimeFrame\n",
    "import numpy as np\n",
    "from MCForecastTools import MCSimulation\n",
    "import json\n",
    "import re\n",
    "from utils import find_crypto_value, calc_start_date\n",
    "from datetime import date, time\n",
    "\n",
    "\n",
    "load_dotenv()"
   ]
  },
  {
   "cell_type": "markdown",
   "metadata": {},
   "source": [
    "## Part 1 - Personal Finance Planner\n",
    "---\n",
    "### Collect Crypto Prices Using the **requests** library"
   ]
  },
  {
   "cell_type": "code",
   "execution_count": 64,
   "metadata": {},
   "outputs": [],
   "source": [
    "# We will use default crypto values of 1.2 BTC and 5.3 ETH\n",
    "my_btc = 1.2\n",
    "my_eth = 5.3\n",
    "\n",
    "# Crypto API URLs\n",
    "btc_url = \"https://api.alternative.me/v2/ticker/Bitcoin/\"\n",
    "eth_url = \"https://api.alternative.me/v2/ticker/Ethereum/\"\n",
    "\n",
    "# Store and parse crypto data from alternative.me free API\n",
    "btc_response = requests.get(btc_url)\n",
    "btc_data = btc_response.json()\n",
    "eth_response = requests.get(eth_url)\n",
    "eth_data = eth_response.json()"
   ]
  },
  {
   "cell_type": "code",
   "execution_count": 65,
   "metadata": {},
   "outputs": [
    {
     "name": "stdout",
     "output_type": "stream",
     "text": [
      "The current value of your 1.2 BTC is $50446.80\n",
      "The current value of your 5.3 ETH is $222806.70\n"
     ]
    }
   ],
   "source": [
    "my_btc_value = find_crypto_value(my_btc, btc_data, 2)\n",
    "my_eth_value = find_crypto_value(my_eth, btc_data, 2)\n",
    "print(f\"The current value of your {my_btc} BTC is ${my_btc_value:0.2f}\")\n",
    "print(f\"The current value of your {my_eth} ETH is ${my_eth_value:0.2f}\")"
   ]
  },
  {
   "cell_type": "markdown",
   "metadata": {},
   "source": [
    "### Collect Investments Data Using Alpaca: SPY (stocks) and AGG (bonds)"
   ]
  },
  {
   "cell_type": "code",
   "execution_count": 66,
   "metadata": {},
   "outputs": [],
   "source": [
    "# Set user share totals for SPY and AGG\n",
    "my_spy = 50\n",
    "my_agg = 200"
   ]
  },
  {
   "cell_type": "code",
   "execution_count": 67,
   "metadata": {},
   "outputs": [],
   "source": [
    "# Set Alpca API key and secret key, then insantiate an API object\n",
    "alpaca_api_key = os.getenv(\"ALPACA_API_KEY\")\n",
    "alpaca_secret_key = os.getenv(\"ALPACA_SECURITY_KEY\")\n",
    "\n",
    "tradeapi = REST(alpaca_api_key, alpaca_secret_key, api_version='v2')\n"
   ]
  },
  {
   "cell_type": "code",
   "execution_count": 68,
   "metadata": {},
   "outputs": [],
   "source": [
    "def get_company(ticker, start, end, tradeapi):\n",
    "    return tradeapi.get_bars(\n",
    "        ticker,\n",
    "        TimeFrame.Day,\n",
    "        start,\n",
    "        end\n",
    "    ).df"
   ]
  },
  {
   "cell_type": "code",
   "execution_count": 72,
   "metadata": {},
   "outputs": [],
   "source": [
    "my_df = {\n",
    "    \"SPY\":get_company(\"SPY\", \"2022-01-01\", \"2022-03-18\", tradeapi),\n",
    "    \"AGG\":get_company(\"AGG\", \"2022-01-01\", \"2022-03-18\", tradeapi)\n",
    "}"
   ]
  },
  {
   "cell_type": "code",
   "execution_count": 73,
   "metadata": {},
   "outputs": [
    {
     "data": {
      "text/html": [
       "<div>\n",
       "<style scoped>\n",
       "    .dataframe tbody tr th:only-of-type {\n",
       "        vertical-align: middle;\n",
       "    }\n",
       "\n",
       "    .dataframe tbody tr th {\n",
       "        vertical-align: top;\n",
       "    }\n",
       "\n",
       "    .dataframe thead tr th {\n",
       "        text-align: left;\n",
       "    }\n",
       "\n",
       "    .dataframe thead tr:last-of-type th {\n",
       "        text-align: right;\n",
       "    }\n",
       "</style>\n",
       "<table border=\"1\" class=\"dataframe\">\n",
       "  <thead>\n",
       "    <tr>\n",
       "      <th></th>\n",
       "      <th colspan=\"7\" halign=\"left\">SPY</th>\n",
       "      <th colspan=\"7\" halign=\"left\">AGG</th>\n",
       "    </tr>\n",
       "    <tr>\n",
       "      <th></th>\n",
       "      <th>open</th>\n",
       "      <th>high</th>\n",
       "      <th>low</th>\n",
       "      <th>close</th>\n",
       "      <th>volume</th>\n",
       "      <th>trade_count</th>\n",
       "      <th>vwap</th>\n",
       "      <th>open</th>\n",
       "      <th>high</th>\n",
       "      <th>low</th>\n",
       "      <th>close</th>\n",
       "      <th>volume</th>\n",
       "      <th>trade_count</th>\n",
       "      <th>vwap</th>\n",
       "    </tr>\n",
       "    <tr>\n",
       "      <th>timestamp</th>\n",
       "      <th></th>\n",
       "      <th></th>\n",
       "      <th></th>\n",
       "      <th></th>\n",
       "      <th></th>\n",
       "      <th></th>\n",
       "      <th></th>\n",
       "      <th></th>\n",
       "      <th></th>\n",
       "      <th></th>\n",
       "      <th></th>\n",
       "      <th></th>\n",
       "      <th></th>\n",
       "      <th></th>\n",
       "    </tr>\n",
       "  </thead>\n",
       "  <tbody>\n",
       "    <tr>\n",
       "      <th>2022-01-03 05:00:00+00:00</th>\n",
       "      <td>476.28</td>\n",
       "      <td>477.85</td>\n",
       "      <td>473.8500</td>\n",
       "      <td>477.71</td>\n",
       "      <td>72859933</td>\n",
       "      <td>534806</td>\n",
       "      <td>476.520945</td>\n",
       "      <td>113.66</td>\n",
       "      <td>113.6753</td>\n",
       "      <td>113.300</td>\n",
       "      <td>113.30</td>\n",
       "      <td>9398873</td>\n",
       "      <td>30228</td>\n",
       "      <td>113.467418</td>\n",
       "    </tr>\n",
       "    <tr>\n",
       "      <th>2022-01-04 05:00:00+00:00</th>\n",
       "      <td>479.26</td>\n",
       "      <td>479.98</td>\n",
       "      <td>475.5800</td>\n",
       "      <td>477.55</td>\n",
       "      <td>72130318</td>\n",
       "      <td>565261</td>\n",
       "      <td>477.865001</td>\n",
       "      <td>113.20</td>\n",
       "      <td>113.3000</td>\n",
       "      <td>113.075</td>\n",
       "      <td>113.29</td>\n",
       "      <td>7769088</td>\n",
       "      <td>31298</td>\n",
       "      <td>113.183583</td>\n",
       "    </tr>\n",
       "    <tr>\n",
       "      <th>2022-01-05 05:00:00+00:00</th>\n",
       "      <td>477.25</td>\n",
       "      <td>477.98</td>\n",
       "      <td>468.2801</td>\n",
       "      <td>468.38</td>\n",
       "      <td>104334251</td>\n",
       "      <td>786612</td>\n",
       "      <td>473.232345</td>\n",
       "      <td>113.35</td>\n",
       "      <td>113.3600</td>\n",
       "      <td>112.900</td>\n",
       "      <td>112.94</td>\n",
       "      <td>8530692</td>\n",
       "      <td>26843</td>\n",
       "      <td>113.092557</td>\n",
       "    </tr>\n",
       "    <tr>\n",
       "      <th>2022-01-06 05:00:00+00:00</th>\n",
       "      <td>468.00</td>\n",
       "      <td>470.82</td>\n",
       "      <td>465.4300</td>\n",
       "      <td>467.94</td>\n",
       "      <td>86899217</td>\n",
       "      <td>803299</td>\n",
       "      <td>468.482337</td>\n",
       "      <td>112.75</td>\n",
       "      <td>112.8400</td>\n",
       "      <td>112.660</td>\n",
       "      <td>112.82</td>\n",
       "      <td>8859820</td>\n",
       "      <td>24721</td>\n",
       "      <td>112.771554</td>\n",
       "    </tr>\n",
       "    <tr>\n",
       "      <th>2022-01-07 05:00:00+00:00</th>\n",
       "      <td>468.11</td>\n",
       "      <td>469.20</td>\n",
       "      <td>464.6500</td>\n",
       "      <td>466.09</td>\n",
       "      <td>84914433</td>\n",
       "      <td>623751</td>\n",
       "      <td>466.942032</td>\n",
       "      <td>112.70</td>\n",
       "      <td>112.7050</td>\n",
       "      <td>112.340</td>\n",
       "      <td>112.49</td>\n",
       "      <td>9018694</td>\n",
       "      <td>32424</td>\n",
       "      <td>112.502900</td>\n",
       "    </tr>\n",
       "  </tbody>\n",
       "</table>\n",
       "</div>"
      ],
      "text/plain": [
       "                              SPY                                       \\\n",
       "                             open    high       low   close     volume   \n",
       "timestamp                                                                \n",
       "2022-01-03 05:00:00+00:00  476.28  477.85  473.8500  477.71   72859933   \n",
       "2022-01-04 05:00:00+00:00  479.26  479.98  475.5800  477.55   72130318   \n",
       "2022-01-05 05:00:00+00:00  477.25  477.98  468.2801  468.38  104334251   \n",
       "2022-01-06 05:00:00+00:00  468.00  470.82  465.4300  467.94   86899217   \n",
       "2022-01-07 05:00:00+00:00  468.11  469.20  464.6500  466.09   84914433   \n",
       "\n",
       "                                                      AGG                     \\\n",
       "                          trade_count        vwap    open      high      low   \n",
       "timestamp                                                                      \n",
       "2022-01-03 05:00:00+00:00      534806  476.520945  113.66  113.6753  113.300   \n",
       "2022-01-04 05:00:00+00:00      565261  477.865001  113.20  113.3000  113.075   \n",
       "2022-01-05 05:00:00+00:00      786612  473.232345  113.35  113.3600  112.900   \n",
       "2022-01-06 05:00:00+00:00      803299  468.482337  112.75  112.8400  112.660   \n",
       "2022-01-07 05:00:00+00:00      623751  466.942032  112.70  112.7050  112.340   \n",
       "\n",
       "                                                                    \n",
       "                            close   volume trade_count        vwap  \n",
       "timestamp                                                           \n",
       "2022-01-03 05:00:00+00:00  113.30  9398873       30228  113.467418  \n",
       "2022-01-04 05:00:00+00:00  113.29  7769088       31298  113.183583  \n",
       "2022-01-05 05:00:00+00:00  112.94  8530692       26843  113.092557  \n",
       "2022-01-06 05:00:00+00:00  112.82  8859820       24721  112.771554  \n",
       "2022-01-07 05:00:00+00:00  112.49  9018694       32424  112.502900  "
      ]
     },
     "execution_count": 73,
     "metadata": {},
     "output_type": "execute_result"
    }
   ],
   "source": [
    "full_data = pd.concat(my_df.values(), keys=my_df.keys(), axis=\"columns\")\n",
    "full_data.head()\n"
   ]
  },
  {
   "cell_type": "code",
   "execution_count": 101,
   "metadata": {},
   "outputs": [
    {
     "name": "stdout",
     "output_type": "stream",
     "text": [
      "Current AGG closing price: $108.1\n",
      "Current SPY closing price: $444.52\n"
     ]
    }
   ],
   "source": [
    "# Pick AGG and SPY close prices\n",
    "spy_close_price = full_data['SPY'].loc[:,'close'][-1]\n",
    "agg_close_price = full_data['AGG'].loc[:,'close'][-1]\n",
    "# Print AGG and SPY close prices\n",
    "print(f\"Current AGG closing price: ${agg_close_price}\")\n",
    "print(f\"Current SPY closing price: ${spy_close_price}\")"
   ]
  },
  {
   "cell_type": "code",
   "execution_count": 102,
   "metadata": {},
   "outputs": [
    {
     "name": "stdout",
     "output_type": "stream",
     "text": [
      "The current value of your 50 SPY shares is $22226.00\n",
      "The current value of your 200 AGG shares is $21620.00\n"
     ]
    }
   ],
   "source": [
    "# Compute the current value of shares\n",
    "my_spy_value= spy_close_price*my_spy\n",
    "my_agg_value= agg_close_price*my_agg\n",
    "\n",
    "# Print current value of shares\n",
    "print(f\"The current value of your {my_spy} SPY shares is ${my_spy_value:0.2f}\")\n",
    "print(f\"The current value of your {my_agg} AGG shares is ${my_agg_value:0.2f}\")"
   ]
  },
  {
   "cell_type": "code",
   "execution_count": 114,
   "metadata": {},
   "outputs": [
    {
     "data": {
      "text/html": [
       "<div>\n",
       "<style scoped>\n",
       "    .dataframe tbody tr th:only-of-type {\n",
       "        vertical-align: middle;\n",
       "    }\n",
       "\n",
       "    .dataframe tbody tr th {\n",
       "        vertical-align: top;\n",
       "    }\n",
       "\n",
       "    .dataframe thead th {\n",
       "        text-align: right;\n",
       "    }\n",
       "</style>\n",
       "<table border=\"1\" class=\"dataframe\">\n",
       "  <thead>\n",
       "    <tr style=\"text-align: right;\">\n",
       "      <th></th>\n",
       "      <th>amount</th>\n",
       "    </tr>\n",
       "  </thead>\n",
       "  <tbody>\n",
       "    <tr>\n",
       "      <th>crypto</th>\n",
       "      <td>273253.5</td>\n",
       "    </tr>\n",
       "    <tr>\n",
       "      <th>shares</th>\n",
       "      <td>43846.0</td>\n",
       "    </tr>\n",
       "  </tbody>\n",
       "</table>\n",
       "</div>"
      ],
      "text/plain": [
       "          amount\n",
       "crypto  273253.5\n",
       "shares   43846.0"
      ]
     },
     "metadata": {},
     "output_type": "display_data"
    }
   ],
   "source": [
    "# Set monthly household income\n",
    "monthly_income = 12000\n",
    "\n",
    "# Consolidate financial assets data\n",
    "savings = {}\n",
    "savings['crypto'] = my_eth_value+my_btc_value\n",
    "savings['shares'] = my_agg_value+my_spy_value\n",
    "# Create DataFrame from dictionary\n",
    "df_savings = pd.DataFrame.from_dict(savings, orient= 'index')\n",
    "\n",
    "# Rename column to 'amount'\n",
    "df_savings.rename(columns={0:'amount'},inplace=True)\n",
    "\n",
    "# Display savings DataFrame\n",
    "display(df_savings)"
   ]
  },
  {
   "cell_type": "code",
   "execution_count": 131,
   "metadata": {},
   "outputs": [
    {
     "data": {
      "text/plain": [
       "<AxesSubplot:title={'center':'Composition of Personal Savings'}, ylabel='amount'>"
      ]
     },
     "execution_count": 131,
     "metadata": {},
     "output_type": "execute_result"
    },
    {
     "data": {
      "image/png": "[encoded data removed]",
      "text/plain": [
       "<Figure size 576x576 with 1 Axes>"
      ]
     },
     "metadata": {},
     "output_type": "display_data"
    }
   ],
   "source": [
    "# Plot savings pie chart\n",
    "df_savings.plot.pie(\n",
    "    y= 'amount', title= 'Composition of Personal Savings', legend= True,\\\n",
    "    autopct='%1.1f%%', shadow=True, startangle=0,\\\n",
    "    explode = (0, 0.1),\\\n",
    "    figsize = (8, 8)\n",
    "    )"
   ]
  },
  {
   "cell_type": "code",
   "execution_count": null,
   "metadata": {},
   "outputs": [],
   "source": []
  }
 ],
 "metadata": {
  "interpreter": {
   "hash": "7adbbe572f6c1f2d86983811888be46cb249a9cba1199ab8718f593971bb14d9"
  },
  "kernelspec": {
   "display_name": "Python 3.7.11 ('base')",
   "language": "python",
   "name": "python3"
  },
  "language_info": {
   "codemirror_mode": {
    "name": "ipython",
    "version": 3
   },
   "file_extension": ".py",
   "mimetype": "text/x-python",
   "name": "python",
   "nbconvert_exporter": "python",
   "pygments_lexer": "ipython3",
   "version": "3.10.0"
  },
  "orig_nbformat": 4
 },
 "nbformat": 4,
 "nbformat_minor": 2
}
