{
 "cells": [
  {
   "cell_type": "markdown",
   "metadata": {},
   "source": [
    "# Prototype Financial Planner"
   ]
  },
  {
   "cell_type": "code",
   "execution_count": 16,
   "metadata": {},
   "outputs": [
    {
     "data": {
      "text/plain": [
       "True"
      ]
     },
     "execution_count": 16,
     "metadata": {},
     "output_type": "execute_result"
    }
   ],
   "source": [
    "import os\n",
    "import requests\n",
    "import pandas as pd\n",
    "from dotenv import load_dotenv\n",
    "from alpaca_trade_api.rest import REST, TimeFrame\n",
    "import numpy as np\n",
    "from MCForecastTools import MCSimulation\n",
    "import json\n",
    "import re\n",
    "from utils import find_crypto_value, calc_start_date\n",
    "from datetime import date, time\n",
    "\n",
    "\n",
    "load_dotenv()"
   ]
  },
  {
   "cell_type": "markdown",
   "metadata": {},
   "source": [
    "## Part 1 - Personal Finance Planner\n",
    "---\n",
    "### Collect Crypto Prices Using the **requests** library"
   ]
  },
  {
   "cell_type": "code",
   "execution_count": 17,
   "metadata": {},
   "outputs": [],
   "source": [
    "# We will use default crypto values of 1.2 BTC and 5.3 ETH\n",
    "my_btc = 1.2\n",
    "my_eth = 5.3\n",
    "\n",
    "# Crypto API URLs\n",
    "btc_url = \"https://api.alternative.me/v2/ticker/Bitcoin/\"\n",
    "eth_url = \"https://api.alternative.me/v2/ticker/Ethereum/\"\n",
    "\n",
    "# Store and parse crypto data from alternative.me free API\n",
    "btc_response = requests.get(btc_url)\n",
    "btc_data = btc_response.json()\n",
    "eth_response = requests.get(eth_url)\n",
    "eth_data = eth_response.json()"
   ]
  },
  {
   "cell_type": "code",
   "execution_count": 18,
   "metadata": {},
   "outputs": [
    {
     "name": "stdout",
     "output_type": "stream",
     "text": [
      "The current value of your 1.2 BTC is $49231.20\n",
      "The current value of your 5.3 ETH is $15585.55\n"
     ]
    }
   ],
   "source": [
    "my_btc_value = find_crypto_value(btc_data)* my_btc\n",
    "my_eth_value = find_crypto_value(eth_data)* my_eth\n",
    "print(f\"The current value of your {my_btc} BTC is ${my_btc_value:0.2f}\")\n",
    "print(f\"The current value of your {my_eth} ETH is ${my_eth_value:0.2f}\")"
   ]
  },
  {
   "cell_type": "markdown",
   "metadata": {},
   "source": [
    "### Collect Investments Data Using Alpaca: SPY (stocks) and AGG (bonds)"
   ]
  },
  {
   "cell_type": "code",
   "execution_count": 19,
   "metadata": {},
   "outputs": [],
   "source": [
    "# Set user share totals for SPY and AGG\n",
    "my_spy = 50\n",
    "my_agg = 200"
   ]
  },
  {
   "cell_type": "code",
   "execution_count": 20,
   "metadata": {},
   "outputs": [],
   "source": [
    "# Set Alpca API key and secret key, then insantiate an API object\n",
    "alpaca_api_key = os.getenv(\"ALPACA_API_KEY\")\n",
    "alpaca_secret_key = os.getenv(\"ALPACA_SECURITY_KEY\")\n",
    "\n",
    "tradeapi = REST(alpaca_api_key, alpaca_secret_key, api_version='v2')\n"
   ]
  },
  {
   "cell_type": "code",
   "execution_count": 21,
   "metadata": {},
   "outputs": [],
   "source": [
    "def get_company(ticker, start, end, tradeapi):\n",
    "    return tradeapi.get_bars(\n",
    "        ticker,\n",
    "        TimeFrame.Day,\n",
    "        start,\n",
    "        end\n",
    "    ).df"
   ]
  },
  {
   "cell_type": "code",
   "execution_count": 22,
   "metadata": {},
   "outputs": [
    {
     "data": {
      "text/plain": [
       "str"
      ]
     },
     "execution_count": 22,
     "metadata": {},
     "output_type": "execute_result"
    }
   ],
   "source": [
    "# Set start date to five years ago\n",
    "start_date = calc_start_date(5)\n",
    "type(start_date)"
   ]
  },
  {
   "cell_type": "code",
   "execution_count": 23,
   "metadata": {},
   "outputs": [],
   "source": [
    "\n",
    "my_df = {\n",
    "    \"SPY\":get_company(\"SPY\", start_date, \"2022-03-18\", tradeapi),\n",
    "    \"AGG\":get_company(\"AGG\", start_date, \"2022-03-18\", tradeapi)\n",
    "}"
   ]
  },
  {
   "cell_type": "code",
   "execution_count": 24,
   "metadata": {},
   "outputs": [
    {
     "data": {
      "text/html": [
       "<div>\n",
       "<style scoped>\n",
       "    .dataframe tbody tr th:only-of-type {\n",
       "        vertical-align: middle;\n",
       "    }\n",
       "\n",
       "    .dataframe tbody tr th {\n",
       "        vertical-align: top;\n",
       "    }\n",
       "\n",
       "    .dataframe thead tr th {\n",
       "        text-align: left;\n",
       "    }\n",
       "\n",
       "    .dataframe thead tr:last-of-type th {\n",
       "        text-align: right;\n",
       "    }\n",
       "</style>\n",
       "<table border=\"1\" class=\"dataframe\">\n",
       "  <thead>\n",
       "    <tr>\n",
       "      <th></th>\n",
       "      <th colspan=\"7\" halign=\"left\">SPY</th>\n",
       "      <th colspan=\"7\" halign=\"left\">AGG</th>\n",
       "    </tr>\n",
       "    <tr>\n",
       "      <th></th>\n",
       "      <th>open</th>\n",
       "      <th>high</th>\n",
       "      <th>low</th>\n",
       "      <th>close</th>\n",
       "      <th>volume</th>\n",
       "      <th>trade_count</th>\n",
       "      <th>vwap</th>\n",
       "      <th>open</th>\n",
       "      <th>high</th>\n",
       "      <th>low</th>\n",
       "      <th>close</th>\n",
       "      <th>volume</th>\n",
       "      <th>trade_count</th>\n",
       "      <th>vwap</th>\n",
       "    </tr>\n",
       "    <tr>\n",
       "      <th>timestamp</th>\n",
       "      <th></th>\n",
       "      <th></th>\n",
       "      <th></th>\n",
       "      <th></th>\n",
       "      <th></th>\n",
       "      <th></th>\n",
       "      <th></th>\n",
       "      <th></th>\n",
       "      <th></th>\n",
       "      <th></th>\n",
       "      <th></th>\n",
       "      <th></th>\n",
       "      <th></th>\n",
       "      <th></th>\n",
       "    </tr>\n",
       "  </thead>\n",
       "  <tbody>\n",
       "    <tr>\n",
       "      <th>2017-03-21 04:00:00+00:00</th>\n",
       "      <td>237.49</td>\n",
       "      <td>237.61</td>\n",
       "      <td>233.58</td>\n",
       "      <td>233.760</td>\n",
       "      <td>131809275</td>\n",
       "      <td>443599</td>\n",
       "      <td>234.853857</td>\n",
       "      <td>107.93</td>\n",
       "      <td>108.27</td>\n",
       "      <td>107.9300</td>\n",
       "      <td>108.27</td>\n",
       "      <td>2049680</td>\n",
       "      <td>12024</td>\n",
       "      <td>108.175725</td>\n",
       "    </tr>\n",
       "    <tr>\n",
       "      <th>2017-03-22 04:00:00+00:00</th>\n",
       "      <td>233.78</td>\n",
       "      <td>234.61</td>\n",
       "      <td>233.05</td>\n",
       "      <td>234.250</td>\n",
       "      <td>97569204</td>\n",
       "      <td>307469</td>\n",
       "      <td>233.932509</td>\n",
       "      <td>108.44</td>\n",
       "      <td>108.54</td>\n",
       "      <td>108.3600</td>\n",
       "      <td>108.42</td>\n",
       "      <td>2643641</td>\n",
       "      <td>11111</td>\n",
       "      <td>108.455049</td>\n",
       "    </tr>\n",
       "    <tr>\n",
       "      <th>2017-03-23 04:00:00+00:00</th>\n",
       "      <td>234.01</td>\n",
       "      <td>235.34</td>\n",
       "      <td>233.60</td>\n",
       "      <td>233.940</td>\n",
       "      <td>100410277</td>\n",
       "      <td>333903</td>\n",
       "      <td>234.388790</td>\n",
       "      <td>108.44</td>\n",
       "      <td>108.51</td>\n",
       "      <td>108.2635</td>\n",
       "      <td>108.45</td>\n",
       "      <td>2071485</td>\n",
       "      <td>10901</td>\n",
       "      <td>108.417635</td>\n",
       "    </tr>\n",
       "    <tr>\n",
       "      <th>2017-03-24 04:00:00+00:00</th>\n",
       "      <td>234.35</td>\n",
       "      <td>235.04</td>\n",
       "      <td>232.96</td>\n",
       "      <td>233.880</td>\n",
       "      <td>112504853</td>\n",
       "      <td>359600</td>\n",
       "      <td>234.080978</td>\n",
       "      <td>108.35</td>\n",
       "      <td>108.51</td>\n",
       "      <td>108.3100</td>\n",
       "      <td>108.36</td>\n",
       "      <td>3374871</td>\n",
       "      <td>11229</td>\n",
       "      <td>108.398485</td>\n",
       "    </tr>\n",
       "    <tr>\n",
       "      <th>2017-03-27 04:00:00+00:00</th>\n",
       "      <td>231.97</td>\n",
       "      <td>233.92</td>\n",
       "      <td>231.61</td>\n",
       "      <td>233.575</td>\n",
       "      <td>87454452</td>\n",
       "      <td>289784</td>\n",
       "      <td>233.041576</td>\n",
       "      <td>108.65</td>\n",
       "      <td>108.71</td>\n",
       "      <td>108.5345</td>\n",
       "      <td>108.62</td>\n",
       "      <td>1977292</td>\n",
       "      <td>11112</td>\n",
       "      <td>108.600681</td>\n",
       "    </tr>\n",
       "  </tbody>\n",
       "</table>\n",
       "</div>"
      ],
      "text/plain": [
       "                              SPY                                      \\\n",
       "                             open    high     low    close     volume   \n",
       "timestamp                                                               \n",
       "2017-03-21 04:00:00+00:00  237.49  237.61  233.58  233.760  131809275   \n",
       "2017-03-22 04:00:00+00:00  233.78  234.61  233.05  234.250   97569204   \n",
       "2017-03-23 04:00:00+00:00  234.01  235.34  233.60  233.940  100410277   \n",
       "2017-03-24 04:00:00+00:00  234.35  235.04  232.96  233.880  112504853   \n",
       "2017-03-27 04:00:00+00:00  231.97  233.92  231.61  233.575   87454452   \n",
       "\n",
       "                                                      AGG                    \\\n",
       "                          trade_count        vwap    open    high       low   \n",
       "timestamp                                                                     \n",
       "2017-03-21 04:00:00+00:00      443599  234.853857  107.93  108.27  107.9300   \n",
       "2017-03-22 04:00:00+00:00      307469  233.932509  108.44  108.54  108.3600   \n",
       "2017-03-23 04:00:00+00:00      333903  234.388790  108.44  108.51  108.2635   \n",
       "2017-03-24 04:00:00+00:00      359600  234.080978  108.35  108.51  108.3100   \n",
       "2017-03-27 04:00:00+00:00      289784  233.041576  108.65  108.71  108.5345   \n",
       "\n",
       "                                                                    \n",
       "                            close   volume trade_count        vwap  \n",
       "timestamp                                                           \n",
       "2017-03-21 04:00:00+00:00  108.27  2049680       12024  108.175725  \n",
       "2017-03-22 04:00:00+00:00  108.42  2643641       11111  108.455049  \n",
       "2017-03-23 04:00:00+00:00  108.45  2071485       10901  108.417635  \n",
       "2017-03-24 04:00:00+00:00  108.36  3374871       11229  108.398485  \n",
       "2017-03-27 04:00:00+00:00  108.62  1977292       11112  108.600681  "
      ]
     },
     "execution_count": 24,
     "metadata": {},
     "output_type": "execute_result"
    }
   ],
   "source": [
    "full_data = pd.concat(my_df.values(), keys=my_df.keys(), axis=\"columns\")\n",
    "full_data.head()\n"
   ]
  },
  {
   "cell_type": "code",
   "execution_count": 25,
   "metadata": {},
   "outputs": [
    {
     "name": "stdout",
     "output_type": "stream",
     "text": [
      "Current AGG closing price: $108.1\n",
      "Current SPY closing price: $444.52\n"
     ]
    }
   ],
   "source": [
    "# Pick AGG and SPY close prices\n",
    "spy_close_price = full_data['SPY'].loc[:,'close'][-1]\n",
    "agg_close_price = full_data['AGG'].loc[:,'close'][-1]\n",
    "# Print AGG and SPY close prices\n",
    "print(f\"Current AGG closing price: ${agg_close_price}\")\n",
    "print(f\"Current SPY closing price: ${spy_close_price}\")"
   ]
  },
  {
   "cell_type": "code",
   "execution_count": 26,
   "metadata": {},
   "outputs": [
    {
     "name": "stdout",
     "output_type": "stream",
     "text": [
      "The current value of your 50 SPY shares is $22226.00\n",
      "The current value of your 200 AGG shares is $21620.00\n"
     ]
    }
   ],
   "source": [
    "# Compute the current value of shares\n",
    "my_spy_value= spy_close_price*my_spy\n",
    "my_agg_value= agg_close_price*my_agg\n",
    "\n",
    "# Print current value of shares\n",
    "print(f\"The current value of your {my_spy} SPY shares is ${my_spy_value:0.2f}\")\n",
    "print(f\"The current value of your {my_agg} AGG shares is ${my_agg_value:0.2f}\")"
   ]
  },
  {
   "cell_type": "code",
   "execution_count": 27,
   "metadata": {},
   "outputs": [
    {
     "data": {
      "text/html": [
       "<div>\n",
       "<style scoped>\n",
       "    .dataframe tbody tr th:only-of-type {\n",
       "        vertical-align: middle;\n",
       "    }\n",
       "\n",
       "    .dataframe tbody tr th {\n",
       "        vertical-align: top;\n",
       "    }\n",
       "\n",
       "    .dataframe thead th {\n",
       "        text-align: right;\n",
       "    }\n",
       "</style>\n",
       "<table border=\"1\" class=\"dataframe\">\n",
       "  <thead>\n",
       "    <tr style=\"text-align: right;\">\n",
       "      <th></th>\n",
       "      <th>amount</th>\n",
       "    </tr>\n",
       "  </thead>\n",
       "  <tbody>\n",
       "    <tr>\n",
       "      <th>crypto</th>\n",
       "      <td>64816.751</td>\n",
       "    </tr>\n",
       "    <tr>\n",
       "      <th>shares</th>\n",
       "      <td>43846.000</td>\n",
       "    </tr>\n",
       "  </tbody>\n",
       "</table>\n",
       "</div>"
      ],
      "text/plain": [
       "           amount\n",
       "crypto  64816.751\n",
       "shares  43846.000"
      ]
     },
     "metadata": {},
     "output_type": "display_data"
    }
   ],
   "source": [
    "# Set monthly household income\n",
    "monthly_income = 12000\n",
    "\n",
    "# Consolidate financial assets data\n",
    "savings = {}\n",
    "savings['crypto'] = my_eth_value+my_btc_value\n",
    "savings['shares'] = my_agg_value+my_spy_value\n",
    "# Create DataFrame from dictionary\n",
    "df_savings = pd.DataFrame.from_dict(savings, orient= 'index')\n",
    "\n",
    "# Rename column to 'amount'\n",
    "df_savings.rename(columns={0:'amount'},inplace=True)\n",
    "\n",
    "# Display savings DataFrame\n",
    "display(df_savings)"
   ]
  },
  {
   "cell_type": "code",
   "execution_count": 28,
   "metadata": {},
   "outputs": [
    {
     "data": {
      "text/plain": [
       "<AxesSubplot:title={'center':'Composition of Personal Savings'}, ylabel='amount'>"
      ]
     },
     "execution_count": 28,
     "metadata": {},
     "output_type": "execute_result"
    },
    {
     "data": {
      "image/png": "[encoded data removed]",
      "text/plain": [
       "<Figure size 576x576 with 1 Axes>"
      ]
     },
     "metadata": {},
     "output_type": "display_data"
    }
   ],
   "source": [
    "# Plot savings pie chart\n",
    "df_savings.plot.pie(\n",
    "    y= 'amount', title= 'Composition of Personal Savings', legend= True,\\\n",
    "    autopct='%1.1f%%', shadow=True, startangle=0,\\\n",
    "    explode = (0, 0.1),\\\n",
    "    figsize = (8, 8)\n",
    "    )"
   ]
  },
  {
   "cell_type": "code",
   "execution_count": 29,
   "metadata": {},
   "outputs": [
    {
     "name": "stdout",
     "output_type": "stream",
     "text": [
      "Congratulations! You have adequate savings in case of an emergency!\n"
     ]
    }
   ],
   "source": [
    "# Set ideal emergency fund\n",
    "emergency_fund = monthly_income * 3\n",
    "\n",
    "# Calculate total amount of savings\n",
    "total_savings = df_savings['amount'].sum()\n",
    "\n",
    "# Validate saving health\n",
    "if total_savings < emergency_fund:\n",
    "    print(f\"Warning: your emergency fund should be {emergency_fund-total_savings} higher\")\n",
    "else:\n",
    "    print(f\"Congratulations! You have adequate savings in case of an emergency!\")"
   ]
  },
  {
   "cell_type": "code",
   "execution_count": 40,
   "metadata": {},
   "outputs": [
    {
     "name": "stdout",
     "output_type": "stream",
     "text": [
      "Running Monte Carlo simulation number 0.\n",
      "Running Monte Carlo simulation number 10.\n",
      "Running Monte Carlo simulation number 20.\n",
      "Running Monte Carlo simulation number 30.\n",
      "Running Monte Carlo simulation number 40.\n",
      "Running Monte Carlo simulation number 50.\n",
      "Running Monte Carlo simulation number 60.\n",
      "Running Monte Carlo simulation number 70.\n",
      "Running Monte Carlo simulation number 80.\n",
      "Running Monte Carlo simulation number 90.\n",
      "Running Monte Carlo simulation number 100.\n"
     ]
    },
    {
     "name": "stderr",
     "output_type": "stream",
     "text": [
      "c:\\Users\\Laramie\\Desktop\\FinancialPlanning\\FinancialPlanningPrototype\\MCForecastTools.py:117: PerformanceWarning: DataFrame is highly fragmented.  This is usually the result of calling `frame.insert` many times, which has poor performance.  Consider joining all columns at once using pd.concat(axis=1) instead.  To get a de-fragmented frame, use `newframe = frame.copy()`\n",
      "  portfolio_cumulative_returns[n] = (1 + sim_df.fillna(0)).cumprod()\n"
     ]
    },
    {
     "name": "stdout",
     "output_type": "stream",
     "text": [
      "Running Monte Carlo simulation number 110.\n",
      "Running Monte Carlo simulation number 120.\n",
      "Running Monte Carlo simulation number 130.\n",
      "Running Monte Carlo simulation number 140.\n",
      "Running Monte Carlo simulation number 150.\n",
      "Running Monte Carlo simulation number 160.\n",
      "Running Monte Carlo simulation number 170.\n",
      "Running Monte Carlo simulation number 180.\n",
      "Running Monte Carlo simulation number 190.\n",
      "Running Monte Carlo simulation number 200.\n",
      "Running Monte Carlo simulation number 210.\n",
      "Running Monte Carlo simulation number 220.\n",
      "Running Monte Carlo simulation number 230.\n",
      "Running Monte Carlo simulation number 240.\n",
      "Running Monte Carlo simulation number 250.\n",
      "Running Monte Carlo simulation number 260.\n",
      "Running Monte Carlo simulation number 270.\n",
      "Running Monte Carlo simulation number 280.\n",
      "Running Monte Carlo simulation number 290.\n",
      "Running Monte Carlo simulation number 300.\n",
      "Running Monte Carlo simulation number 310.\n",
      "Running Monte Carlo simulation number 320.\n",
      "Running Monte Carlo simulation number 330.\n",
      "Running Monte Carlo simulation number 340.\n",
      "Running Monte Carlo simulation number 350.\n",
      "Running Monte Carlo simulation number 360.\n",
      "Running Monte Carlo simulation number 370.\n",
      "Running Monte Carlo simulation number 380.\n",
      "Running Monte Carlo simulation number 390.\n",
      "Running Monte Carlo simulation number 400.\n",
      "Running Monte Carlo simulation number 410.\n",
      "Running Monte Carlo simulation number 420.\n",
      "Running Monte Carlo simulation number 430.\n",
      "Running Monte Carlo simulation number 440.\n",
      "Running Monte Carlo simulation number 450.\n",
      "Running Monte Carlo simulation number 460.\n",
      "Running Monte Carlo simulation number 470.\n",
      "Running Monte Carlo simulation number 480.\n",
      "Running Monte Carlo simulation number 490.\n",
      "Running Monte Carlo simulation number 500.\n",
      "Running Monte Carlo simulation number 510.\n",
      "Running Monte Carlo simulation number 520.\n",
      "Running Monte Carlo simulation number 530.\n",
      "Running Monte Carlo simulation number 540.\n",
      "Running Monte Carlo simulation number 550.\n",
      "Running Monte Carlo simulation number 560.\n",
      "Running Monte Carlo simulation number 570.\n",
      "Running Monte Carlo simulation number 580.\n",
      "Running Monte Carlo simulation number 590.\n",
      "Running Monte Carlo simulation number 600.\n",
      "Running Monte Carlo simulation number 610.\n",
      "Running Monte Carlo simulation number 620.\n",
      "Running Monte Carlo simulation number 630.\n",
      "Running Monte Carlo simulation number 640.\n",
      "Running Monte Carlo simulation number 650.\n",
      "Running Monte Carlo simulation number 660.\n",
      "Running Monte Carlo simulation number 670.\n",
      "Running Monte Carlo simulation number 680.\n",
      "Running Monte Carlo simulation number 690.\n",
      "Running Monte Carlo simulation number 700.\n",
      "Running Monte Carlo simulation number 710.\n",
      "Running Monte Carlo simulation number 720.\n",
      "Running Monte Carlo simulation number 730.\n",
      "Running Monte Carlo simulation number 740.\n",
      "Running Monte Carlo simulation number 750.\n",
      "Running Monte Carlo simulation number 760.\n",
      "Running Monte Carlo simulation number 770.\n",
      "Running Monte Carlo simulation number 780.\n",
      "Running Monte Carlo simulation number 790.\n",
      "Running Monte Carlo simulation number 800.\n",
      "Running Monte Carlo simulation number 810.\n",
      "Running Monte Carlo simulation number 820.\n",
      "Running Monte Carlo simulation number 830.\n",
      "Running Monte Carlo simulation number 840.\n",
      "Running Monte Carlo simulation number 850.\n",
      "Running Monte Carlo simulation number 860.\n",
      "Running Monte Carlo simulation number 870.\n",
      "Running Monte Carlo simulation number 880.\n",
      "Running Monte Carlo simulation number 890.\n",
      "Running Monte Carlo simulation number 900.\n",
      "Running Monte Carlo simulation number 910.\n",
      "Running Monte Carlo simulation number 920.\n",
      "Running Monte Carlo simulation number 930.\n",
      "Running Monte Carlo simulation number 940.\n",
      "Running Monte Carlo simulation number 950.\n",
      "Running Monte Carlo simulation number 960.\n",
      "Running Monte Carlo simulation number 970.\n",
      "Running Monte Carlo simulation number 980.\n",
      "Running Monte Carlo simulation number 990.\n"
     ]
    },
    {
     "data": {
      "text/html": [
       "<div>\n",
       "<style scoped>\n",
       "    .dataframe tbody tr th:only-of-type {\n",
       "        vertical-align: middle;\n",
       "    }\n",
       "\n",
       "    .dataframe tbody tr th {\n",
       "        vertical-align: top;\n",
       "    }\n",
       "\n",
       "    .dataframe thead th {\n",
       "        text-align: right;\n",
       "    }\n",
       "</style>\n",
       "<table border=\"1\" class=\"dataframe\">\n",
       "  <thead>\n",
       "    <tr style=\"text-align: right;\">\n",
       "      <th></th>\n",
       "      <th>0</th>\n",
       "      <th>1</th>\n",
       "      <th>2</th>\n",
       "      <th>3</th>\n",
       "      <th>4</th>\n",
       "      <th>5</th>\n",
       "      <th>6</th>\n",
       "      <th>7</th>\n",
       "      <th>8</th>\n",
       "      <th>9</th>\n",
       "      <th>...</th>\n",
       "      <th>990</th>\n",
       "      <th>991</th>\n",
       "      <th>992</th>\n",
       "      <th>993</th>\n",
       "      <th>994</th>\n",
       "      <th>995</th>\n",
       "      <th>996</th>\n",
       "      <th>997</th>\n",
       "      <th>998</th>\n",
       "      <th>999</th>\n",
       "    </tr>\n",
       "  </thead>\n",
       "  <tbody>\n",
       "    <tr>\n",
       "      <th>0</th>\n",
       "      <td>1.000000</td>\n",
       "      <td>1.000000</td>\n",
       "      <td>1.000000</td>\n",
       "      <td>1.000000</td>\n",
       "      <td>1.000000</td>\n",
       "      <td>1.000000</td>\n",
       "      <td>1.000000</td>\n",
       "      <td>1.000000</td>\n",
       "      <td>1.000000</td>\n",
       "      <td>1.000000</td>\n",
       "      <td>...</td>\n",
       "      <td>1.000000</td>\n",
       "      <td>1.000000</td>\n",
       "      <td>1.000000</td>\n",
       "      <td>1.000000</td>\n",
       "      <td>1.000000</td>\n",
       "      <td>1.000000</td>\n",
       "      <td>1.000000</td>\n",
       "      <td>1.000000</td>\n",
       "      <td>1.000000</td>\n",
       "      <td>1.000000</td>\n",
       "    </tr>\n",
       "    <tr>\n",
       "      <th>1</th>\n",
       "      <td>1.001069</td>\n",
       "      <td>1.002140</td>\n",
       "      <td>0.998383</td>\n",
       "      <td>1.008810</td>\n",
       "      <td>1.010441</td>\n",
       "      <td>1.006686</td>\n",
       "      <td>1.003947</td>\n",
       "      <td>1.003422</td>\n",
       "      <td>0.996980</td>\n",
       "      <td>1.007064</td>\n",
       "      <td>...</td>\n",
       "      <td>0.989617</td>\n",
       "      <td>1.014768</td>\n",
       "      <td>1.013904</td>\n",
       "      <td>0.991245</td>\n",
       "      <td>1.000464</td>\n",
       "      <td>1.000607</td>\n",
       "      <td>1.014446</td>\n",
       "      <td>0.990499</td>\n",
       "      <td>1.000484</td>\n",
       "      <td>1.005459</td>\n",
       "    </tr>\n",
       "    <tr>\n",
       "      <th>2</th>\n",
       "      <td>1.008535</td>\n",
       "      <td>0.997376</td>\n",
       "      <td>1.008019</td>\n",
       "      <td>0.997075</td>\n",
       "      <td>0.997966</td>\n",
       "      <td>1.005544</td>\n",
       "      <td>0.992479</td>\n",
       "      <td>1.006541</td>\n",
       "      <td>0.996608</td>\n",
       "      <td>1.000922</td>\n",
       "      <td>...</td>\n",
       "      <td>0.994547</td>\n",
       "      <td>1.012371</td>\n",
       "      <td>1.014585</td>\n",
       "      <td>0.991578</td>\n",
       "      <td>0.998794</td>\n",
       "      <td>1.005892</td>\n",
       "      <td>1.009182</td>\n",
       "      <td>0.984705</td>\n",
       "      <td>1.002394</td>\n",
       "      <td>1.014750</td>\n",
       "    </tr>\n",
       "    <tr>\n",
       "      <th>3</th>\n",
       "      <td>1.009508</td>\n",
       "      <td>0.996007</td>\n",
       "      <td>1.006082</td>\n",
       "      <td>1.008378</td>\n",
       "      <td>0.999101</td>\n",
       "      <td>0.990142</td>\n",
       "      <td>0.990345</td>\n",
       "      <td>0.998077</td>\n",
       "      <td>0.990969</td>\n",
       "      <td>0.992971</td>\n",
       "      <td>...</td>\n",
       "      <td>0.999647</td>\n",
       "      <td>1.012677</td>\n",
       "      <td>1.020884</td>\n",
       "      <td>0.979820</td>\n",
       "      <td>0.991830</td>\n",
       "      <td>1.009928</td>\n",
       "      <td>1.016455</td>\n",
       "      <td>0.994041</td>\n",
       "      <td>0.998898</td>\n",
       "      <td>1.012568</td>\n",
       "    </tr>\n",
       "    <tr>\n",
       "      <th>4</th>\n",
       "      <td>1.012976</td>\n",
       "      <td>0.986611</td>\n",
       "      <td>1.006001</td>\n",
       "      <td>1.016368</td>\n",
       "      <td>1.000267</td>\n",
       "      <td>0.989158</td>\n",
       "      <td>0.997515</td>\n",
       "      <td>0.998310</td>\n",
       "      <td>0.991568</td>\n",
       "      <td>1.004789</td>\n",
       "      <td>...</td>\n",
       "      <td>0.996407</td>\n",
       "      <td>1.003231</td>\n",
       "      <td>1.023692</td>\n",
       "      <td>0.976127</td>\n",
       "      <td>0.992613</td>\n",
       "      <td>1.012022</td>\n",
       "      <td>1.021017</td>\n",
       "      <td>0.976135</td>\n",
       "      <td>0.996155</td>\n",
       "      <td>1.018547</td>\n",
       "    </tr>\n",
       "    <tr>\n",
       "      <th>...</th>\n",
       "      <td>...</td>\n",
       "      <td>...</td>\n",
       "      <td>...</td>\n",
       "      <td>...</td>\n",
       "      <td>...</td>\n",
       "      <td>...</td>\n",
       "      <td>...</td>\n",
       "      <td>...</td>\n",
       "      <td>...</td>\n",
       "      <td>...</td>\n",
       "      <td>...</td>\n",
       "      <td>...</td>\n",
       "      <td>...</td>\n",
       "      <td>...</td>\n",
       "      <td>...</td>\n",
       "      <td>...</td>\n",
       "      <td>...</td>\n",
       "      <td>...</td>\n",
       "      <td>...</td>\n",
       "      <td>...</td>\n",
       "      <td>...</td>\n",
       "    </tr>\n",
       "    <tr>\n",
       "      <th>7556</th>\n",
       "      <td>6.438106</td>\n",
       "      <td>7.105747</td>\n",
       "      <td>7.760272</td>\n",
       "      <td>14.823856</td>\n",
       "      <td>10.016405</td>\n",
       "      <td>17.133118</td>\n",
       "      <td>8.496181</td>\n",
       "      <td>59.852599</td>\n",
       "      <td>8.535501</td>\n",
       "      <td>27.062031</td>\n",
       "      <td>...</td>\n",
       "      <td>16.019700</td>\n",
       "      <td>4.843487</td>\n",
       "      <td>13.195293</td>\n",
       "      <td>15.593270</td>\n",
       "      <td>11.321585</td>\n",
       "      <td>3.509096</td>\n",
       "      <td>18.291254</td>\n",
       "      <td>15.839192</td>\n",
       "      <td>13.601620</td>\n",
       "      <td>17.794323</td>\n",
       "    </tr>\n",
       "    <tr>\n",
       "      <th>7557</th>\n",
       "      <td>6.459183</td>\n",
       "      <td>7.082499</td>\n",
       "      <td>7.758199</td>\n",
       "      <td>14.932658</td>\n",
       "      <td>9.971148</td>\n",
       "      <td>17.156755</td>\n",
       "      <td>8.479832</td>\n",
       "      <td>60.267313</td>\n",
       "      <td>8.629093</td>\n",
       "      <td>27.290038</td>\n",
       "      <td>...</td>\n",
       "      <td>16.032402</td>\n",
       "      <td>4.810458</td>\n",
       "      <td>13.269786</td>\n",
       "      <td>15.572745</td>\n",
       "      <td>11.352047</td>\n",
       "      <td>3.490260</td>\n",
       "      <td>18.481107</td>\n",
       "      <td>15.838755</td>\n",
       "      <td>13.501857</td>\n",
       "      <td>17.597639</td>\n",
       "    </tr>\n",
       "    <tr>\n",
       "      <th>7558</th>\n",
       "      <td>6.497232</td>\n",
       "      <td>7.078150</td>\n",
       "      <td>7.767109</td>\n",
       "      <td>14.884076</td>\n",
       "      <td>10.047064</td>\n",
       "      <td>17.260089</td>\n",
       "      <td>8.533375</td>\n",
       "      <td>60.274061</td>\n",
       "      <td>8.649150</td>\n",
       "      <td>27.055242</td>\n",
       "      <td>...</td>\n",
       "      <td>16.205657</td>\n",
       "      <td>4.795307</td>\n",
       "      <td>13.213064</td>\n",
       "      <td>15.422630</td>\n",
       "      <td>11.364104</td>\n",
       "      <td>3.532622</td>\n",
       "      <td>18.363157</td>\n",
       "      <td>15.910136</td>\n",
       "      <td>13.481819</td>\n",
       "      <td>17.767851</td>\n",
       "    </tr>\n",
       "    <tr>\n",
       "      <th>7559</th>\n",
       "      <td>6.577691</td>\n",
       "      <td>7.076853</td>\n",
       "      <td>7.712666</td>\n",
       "      <td>14.686599</td>\n",
       "      <td>9.958532</td>\n",
       "      <td>17.210518</td>\n",
       "      <td>8.465904</td>\n",
       "      <td>60.436646</td>\n",
       "      <td>8.707792</td>\n",
       "      <td>27.169204</td>\n",
       "      <td>...</td>\n",
       "      <td>16.233539</td>\n",
       "      <td>4.826942</td>\n",
       "      <td>13.218275</td>\n",
       "      <td>15.381435</td>\n",
       "      <td>11.464508</td>\n",
       "      <td>3.560323</td>\n",
       "      <td>18.241245</td>\n",
       "      <td>16.017167</td>\n",
       "      <td>13.390892</td>\n",
       "      <td>17.705623</td>\n",
       "    </tr>\n",
       "    <tr>\n",
       "      <th>7560</th>\n",
       "      <td>6.527271</td>\n",
       "      <td>6.969171</td>\n",
       "      <td>7.691028</td>\n",
       "      <td>14.640609</td>\n",
       "      <td>9.894747</td>\n",
       "      <td>17.164752</td>\n",
       "      <td>8.485017</td>\n",
       "      <td>60.553078</td>\n",
       "      <td>8.781220</td>\n",
       "      <td>27.463215</td>\n",
       "      <td>...</td>\n",
       "      <td>16.249081</td>\n",
       "      <td>4.835471</td>\n",
       "      <td>13.332140</td>\n",
       "      <td>15.421684</td>\n",
       "      <td>11.668376</td>\n",
       "      <td>3.558954</td>\n",
       "      <td>18.318817</td>\n",
       "      <td>15.962351</td>\n",
       "      <td>13.271658</td>\n",
       "      <td>17.760539</td>\n",
       "    </tr>\n",
       "  </tbody>\n",
       "</table>\n",
       "<p>7561 rows × 1000 columns</p>\n",
       "</div>"
      ],
      "text/plain": [
       "           0         1         2          3          4          5         6    \\\n",
       "0     1.000000  1.000000  1.000000   1.000000   1.000000   1.000000  1.000000   \n",
       "1     1.001069  1.002140  0.998383   1.008810   1.010441   1.006686  1.003947   \n",
       "2     1.008535  0.997376  1.008019   0.997075   0.997966   1.005544  0.992479   \n",
       "3     1.009508  0.996007  1.006082   1.008378   0.999101   0.990142  0.990345   \n",
       "4     1.012976  0.986611  1.006001   1.016368   1.000267   0.989158  0.997515   \n",
       "...        ...       ...       ...        ...        ...        ...       ...   \n",
       "7556  6.438106  7.105747  7.760272  14.823856  10.016405  17.133118  8.496181   \n",
       "7557  6.459183  7.082499  7.758199  14.932658   9.971148  17.156755  8.479832   \n",
       "7558  6.497232  7.078150  7.767109  14.884076  10.047064  17.260089  8.533375   \n",
       "7559  6.577691  7.076853  7.712666  14.686599   9.958532  17.210518  8.465904   \n",
       "7560  6.527271  6.969171  7.691028  14.640609   9.894747  17.164752  8.485017   \n",
       "\n",
       "            7         8          9    ...        990       991        992  \\\n",
       "0      1.000000  1.000000   1.000000  ...   1.000000  1.000000   1.000000   \n",
       "1      1.003422  0.996980   1.007064  ...   0.989617  1.014768   1.013904   \n",
       "2      1.006541  0.996608   1.000922  ...   0.994547  1.012371   1.014585   \n",
       "3      0.998077  0.990969   0.992971  ...   0.999647  1.012677   1.020884   \n",
       "4      0.998310  0.991568   1.004789  ...   0.996407  1.003231   1.023692   \n",
       "...         ...       ...        ...  ...        ...       ...        ...   \n",
       "7556  59.852599  8.535501  27.062031  ...  16.019700  4.843487  13.195293   \n",
       "7557  60.267313  8.629093  27.290038  ...  16.032402  4.810458  13.269786   \n",
       "7558  60.274061  8.649150  27.055242  ...  16.205657  4.795307  13.213064   \n",
       "7559  60.436646  8.707792  27.169204  ...  16.233539  4.826942  13.218275   \n",
       "7560  60.553078  8.781220  27.463215  ...  16.249081  4.835471  13.332140   \n",
       "\n",
       "            993        994       995        996        997        998  \\\n",
       "0      1.000000   1.000000  1.000000   1.000000   1.000000   1.000000   \n",
       "1      0.991245   1.000464  1.000607   1.014446   0.990499   1.000484   \n",
       "2      0.991578   0.998794  1.005892   1.009182   0.984705   1.002394   \n",
       "3      0.979820   0.991830  1.009928   1.016455   0.994041   0.998898   \n",
       "4      0.976127   0.992613  1.012022   1.021017   0.976135   0.996155   \n",
       "...         ...        ...       ...        ...        ...        ...   \n",
       "7556  15.593270  11.321585  3.509096  18.291254  15.839192  13.601620   \n",
       "7557  15.572745  11.352047  3.490260  18.481107  15.838755  13.501857   \n",
       "7558  15.422630  11.364104  3.532622  18.363157  15.910136  13.481819   \n",
       "7559  15.381435  11.464508  3.560323  18.241245  16.017167  13.390892   \n",
       "7560  15.421684  11.668376  3.558954  18.318817  15.962351  13.271658   \n",
       "\n",
       "            999  \n",
       "0      1.000000  \n",
       "1      1.005459  \n",
       "2      1.014750  \n",
       "3      1.012568  \n",
       "4      1.018547  \n",
       "...         ...  \n",
       "7556  17.794323  \n",
       "7557  17.597639  \n",
       "7558  17.767851  \n",
       "7559  17.705623  \n",
       "7560  17.760539  \n",
       "\n",
       "[7561 rows x 1000 columns]"
      ]
     },
     "execution_count": 40,
     "metadata": {},
     "output_type": "execute_result"
    }
   ],
   "source": [
    "MCSim = MCSimulation(\n",
    "    full_data,\n",
    "    weights = [.60, .40],\n",
    "    num_simulation=1000,\n",
    "    num_trading_days=(30*252) )\n",
    "\n",
    "MCSim.calc_cumulative_return()"
   ]
  },
  {
   "cell_type": "code",
   "execution_count": 41,
   "metadata": {},
   "outputs": [
    {
     "data": {
      "text/plain": [
       "<AxesSubplot:title={'center':'1000 Simulations of Cumulative Portfolio Return Trajectories Over the Next 7560 Trading Days.'}>"
      ]
     },
     "execution_count": 41,
     "metadata": {},
     "output_type": "execute_result"
    },
    {
     "data": {
      "image/png": "[encoded data removed]",
      "text/plain": [
       "<Figure size 432x288 with 1 Axes>"
      ]
     },
     "metadata": {
      "needs_background": "light"
     },
     "output_type": "display_data"
    }
   ],
   "source": [
    "MCSim.plot_simulation()"
   ]
  },
  {
   "cell_type": "code",
   "execution_count": 42,
   "metadata": {},
   "outputs": [
    {
     "data": {
      "text/plain": [
       "<AxesSubplot:title={'center':'Distribution of Final Cumuluative Returns Across All 1000 Simulations'}, ylabel='Frequency'>"
      ]
     },
     "execution_count": 42,
     "metadata": {},
     "output_type": "execute_result"
    },
    {
     "data": {
      "image/png": "[encoded data removed]",
      "text/plain": [
       "<Figure size 432x288 with 1 Axes>"
      ]
     },
     "metadata": {
      "needs_background": "light"
     },
     "output_type": "display_data"
    }
   ],
   "source": [
    "MCSim.plot_distribution()"
   ]
  },
  {
   "cell_type": "code",
   "execution_count": 43,
   "metadata": {},
   "outputs": [
    {
     "data": {
      "text/plain": [
       "count           1000.000000\n",
       "mean              14.491387\n",
       "std                9.985085\n",
       "min                1.293336\n",
       "25%                7.583052\n",
       "50%               11.636266\n",
       "75%               18.477028\n",
       "max               82.969433\n",
       "95% CI Lower       3.557723\n",
       "95% CI Upper      40.133972\n",
       "Name: 7560, dtype: float64"
      ]
     },
     "execution_count": 43,
     "metadata": {},
     "output_type": "execute_result"
    }
   ],
   "source": [
    "# Fetch the summary statistics from the sim results\n",
    "tbl = MCSim.summarize_cumulative_return()\n",
    "\n",
    "tbl"
   ]
  },
  {
   "cell_type": "code",
   "execution_count": 61,
   "metadata": {},
   "outputs": [
    {
     "name": "stdout",
     "output_type": "stream",
     "text": [
      "There is a 95% chance that an initial investment of $20000 in the portfolio over the next 30 years will end within in the range of $71154.46 and $802679.44\n"
     ]
    }
   ],
   "source": [
    "# Set initial investment\n",
    "initial_investment = 20000\n",
    "\n",
    "# Calc lower and upper CI total returns\n",
    "ci_lower_return = round(tbl[8]*initial_investment,2)\n",
    "ci_upper_return = round(tbl[9]*initial_investment,2)\n",
    "\n",
    "print(f\"There is a 95% chance that an initial investment of ${initial_investment} in the portfolio\"\n",
    "      f\" over the next 30 years will end within in the range of\"\n",
    "      f\" ${ci_lower_return} and ${ci_upper_return}\")\n",
    "\n",
    "# going to grab the actual return values for the challenge section\n",
    "ci_lower = tbl[8]\n",
    "ci_upper = tbl[9]"
   ]
  },
  {
   "cell_type": "code",
   "execution_count": 62,
   "metadata": {},
   "outputs": [],
   "source": [
    "# Currently, you can only contribute $6,000 dollars per year to an IRA. If our clients are holding retirement funds in a non-ira\n",
    "# or 401k account, but rather a traditional margin account, we could use the same simulations but we would not have accurate data\n",
    "# based on taxes, margin expense, etc. Furthermore, commissions are not factored in -- minor but relevant.\n",
    "# \n",
    "# In order to account for these custodial issues, we will create a confidence interval of returns\n",
    "# based on user-inputs: (1) length of holding period\n",
    "#                       (2) addition amounts to add to the portfolio,\n",
    "#                       (3) when the additions are made (quarterly, annual, daily, etc.)\n",
    "#                       (4) length of holding period\n",
    "#                       (5) stock/bond mix\n",
    "# \n",
    "# We will then create a confidence interval of monthly withdrawl amounts they can make post retirement\n",
    "# Average retirement lasts 18 years according to Google -- but we will make it a user input as well\n"
   ]
  },
  {
   "cell_type": "code",
   "execution_count": 65,
   "metadata": {},
   "outputs": [
    {
     "data": {
      "text/plain": [
       "0.11859077105661647"
      ]
     },
     "execution_count": 65,
     "metadata": {},
     "output_type": "execute_result"
    }
   ],
   "source": []
  },
  {
   "cell_type": "code",
   "execution_count": null,
   "metadata": {},
   "outputs": [],
   "source": []
  }
 ],
 "metadata": {
  "interpreter": {
   "hash": "7adbbe572f6c1f2d86983811888be46cb249a9cba1199ab8718f593971bb14d9"
  },
  "kernelspec": {
   "display_name": "Python 3.7.11 ('base')",
   "language": "python",
   "name": "python3"
  },
  "language_info": {
   "codemirror_mode": {
    "name": "ipython",
    "version": 3
   },
   "file_extension": ".py",
   "mimetype": "text/x-python",
   "name": "python",
   "nbconvert_exporter": "python",
   "pygments_lexer": "ipython3",
   "version": "3.10.0"
  },
  "orig_nbformat": 4
 },
 "nbformat": 4,
 "nbformat_minor": 2
}
